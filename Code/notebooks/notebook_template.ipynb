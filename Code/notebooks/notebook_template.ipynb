{
 "cells": [
  {
   "cell_type": "markdown",
   "id": "fa06acc1-7dd1-4861-a5b6-bce5bc29fe0f",
   "metadata": {},
   "source": [
    "# Project name"
   ]
  },
  {
   "cell_type": "markdown",
   "id": "0625fe61-0c38-4efd-8367-275b02bd89e9",
   "metadata": {},
   "source": [
    "**Author:** Maddy Bender\n",
    "**Last Modified:** 11-17-2024 (created 11-17-2024)\n",
    "\n",
    "**Description:** Short paragraph explaining this project."
   ]
  },
  {
   "cell_type": "markdown",
   "id": "b19cf32c-c628-44e5-b74c-8f53fbb1a01c",
   "metadata": {},
   "source": [
    "<br>"
   ]
  },
  {
   "cell_type": "markdown",
   "id": "c2d7f32b-95e2-417d-b3ad-d7c94189f078",
   "metadata": {},
   "source": [
    "Import Libraries:"
   ]
  },
  {
   "cell_type": "code",
   "execution_count": 5,
   "id": "14deb215-f90b-4c26-ab69-a7b6e4503280",
   "metadata": {},
   "outputs": [],
   "source": [
    "import pandas as pd"
   ]
  },
  {
   "cell_type": "markdown",
   "id": "13e73c40-d4e1-4b0f-bc2f-2505eebcc06b",
   "metadata": {},
   "source": [
    "<br>"
   ]
  },
  {
   "cell_type": "markdown",
   "id": "288607e2-9c81-4b2d-999d-f4c686cf61fe",
   "metadata": {},
   "source": [
    "Load data:"
   ]
  },
  {
   "cell_type": "code",
   "execution_count": 8,
   "id": "d5c38b3d-60aa-4d69-a7b8-da0682b62c98",
   "metadata": {},
   "outputs": [],
   "source": [
    "# code to read csv file"
   ]
  }
 ],
 "metadata": {
  "kernelspec": {
   "display_name": "Python 3 (ipykernel)",
   "language": "python",
   "name": "python3"
  },
  "language_info": {
   "codemirror_mode": {
    "name": "ipython",
    "version": 3
   },
   "file_extension": ".py",
   "mimetype": "text/x-python",
   "name": "python",
   "nbconvert_exporter": "python",
   "pygments_lexer": "ipython3",
   "version": "3.12.4"
  }
 },
 "nbformat": 4,
 "nbformat_minor": 5
}
